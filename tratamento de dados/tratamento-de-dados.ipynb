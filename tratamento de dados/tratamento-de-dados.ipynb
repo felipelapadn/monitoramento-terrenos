{
 "cells": [
  {
   "cell_type": "code",
   "execution_count": 126,
   "id": "d0257771-571f-41a9-973b-315dcc6ec41e",
   "metadata": {},
   "outputs": [],
   "source": [
    "import numpy as np\n",
    "import pandas as pd"
   ]
  },
  {
   "cell_type": "markdown",
   "id": "c3250930-70f1-41df-bf24-6b306e7f6ef0",
   "metadata": {},
   "source": [
    "## Junção de bases"
   ]
  },
  {
   "cell_type": "code",
   "execution_count": 2,
   "id": "6249e187-f86a-4707-a14d-af88fd686206",
   "metadata": {},
   "outputs": [
    {
     "name": "stderr",
     "output_type": "stream",
     "text": [
      "C:\\Users\\felip\\AppData\\Local\\Temp\\ipykernel_6360\\968718987.py:1: DtypeWarning: Columns (2) have mixed types. Specify dtype option on import or set low_memory=False.\n",
      "  dados_imoveis = pd.read_csv(\"Downloads/dados_imoveis_csv/dados_big_data_exec.csv\")\n",
      "C:\\Users\\felip\\AppData\\Local\\Temp\\ipykernel_6360\\968718987.py:2: DtypeWarning: Columns (6) have mixed types. Specify dtype option on import or set low_memory=False.\n",
      "  dados_complementares = pd.read_csv(\"Downloads/dados_apf_csv/dados_apf.csv\")\n"
     ]
    }
   ],
   "source": [
    "dados_imoveis = pd.read_csv(\"Downloads/dados_imoveis_csv/dados_big_data_exec.csv\")\n",
    "dados_complementares = pd.read_csv(\"Downloads/dados_apf_csv/dados_apf.csv\")"
   ]
  },
  {
   "cell_type": "code",
   "execution_count": 3,
   "id": "92ad11e2-7e0b-4906-b16b-e607a779ada1",
   "metadata": {},
   "outputs": [
    {
     "data": {
      "text/html": [
       "<div>\n",
       "<style scoped>\n",
       "    .dataframe tbody tr th:only-of-type {\n",
       "        vertical-align: middle;\n",
       "    }\n",
       "\n",
       "    .dataframe tbody tr th {\n",
       "        vertical-align: top;\n",
       "    }\n",
       "\n",
       "    .dataframe thead th {\n",
       "        text-align: right;\n",
       "    }\n",
       "</style>\n",
       "<table border=\"1\" class=\"dataframe\">\n",
       "  <thead>\n",
       "    <tr style=\"text-align: right;\">\n",
       "      <th></th>\n",
       "      <th>Classe</th>\n",
       "      <th>RIP Imóvel</th>\n",
       "      <th>Nº/RIP Utilização</th>\n",
       "      <th>Data do Cadastro do Imóvel</th>\n",
       "      <th>UF</th>\n",
       "      <th>Município</th>\n",
       "      <th>Endereço</th>\n",
       "      <th>Bairro</th>\n",
       "      <th>Latitude</th>\n",
       "      <th>Longitude</th>\n",
       "      <th>Nível de Precisão</th>\n",
       "      <th>Conceituação do Terreno</th>\n",
       "      <th>Tipo de Imóvel</th>\n",
       "      <th>Regime de Utilização</th>\n",
       "      <th>Proprietário Oficial</th>\n",
       "      <th>Data Início da Utilização</th>\n",
       "      <th>Área do Terreno (m²)</th>\n",
       "      <th>Área da União (m²)</th>\n",
       "    </tr>\n",
       "  </thead>\n",
       "  <tbody>\n",
       "    <tr>\n",
       "      <th>0</th>\n",
       "      <td>Uso Especial</td>\n",
       "      <td>1002675003</td>\n",
       "      <td>0001002685009</td>\n",
       "      <td>2021-07-29</td>\n",
       "      <td>RO</td>\n",
       "      <td>Guajara-Mirim</td>\n",
       "      <td>GLB GLEBA COMARA - FIGURA 01 SN GLEBA COMARA -...</td>\n",
       "      <td>ZONA RURAL</td>\n",
       "      <td>-10,7742780232</td>\n",
       "      <td>-65,3244909</td>\n",
       "      <td>Geocodificado – Município encontrado</td>\n",
       "      <td>Nacional Interior</td>\n",
       "      <td>Gleba</td>\n",
       "      <td>Em Processso de Destinação</td>\n",
       "      <td>Fundação ou Autarquia (Adm. Pub. Fed. indireta)</td>\n",
       "      <td>-</td>\n",
       "      <td>98400</td>\n",
       "      <td>98400</td>\n",
       "    </tr>\n",
       "    <tr>\n",
       "      <th>1</th>\n",
       "      <td>Uso Especial</td>\n",
       "      <td>1002695004</td>\n",
       "      <td>0001002705000</td>\n",
       "      <td>2021-07-29</td>\n",
       "      <td>RO</td>\n",
       "      <td>Guajara-Mirim</td>\n",
       "      <td>GLB GLEBA COMARA - FIGURA 2 SN GLEBA COMARA - ...</td>\n",
       "      <td>ZONA RURAL</td>\n",
       "      <td>-10,7742780232</td>\n",
       "      <td>-65,3244909</td>\n",
       "      <td>Geocodificado – Município encontrado</td>\n",
       "      <td>Nacional Interior</td>\n",
       "      <td>Gleba</td>\n",
       "      <td>Em Processso de Destinação</td>\n",
       "      <td>Fundação ou Autarquia (Adm. Pub. Fed. indireta)</td>\n",
       "      <td>-</td>\n",
       "      <td>1550300</td>\n",
       "      <td>1550300</td>\n",
       "    </tr>\n",
       "  </tbody>\n",
       "</table>\n",
       "</div>"
      ],
      "text/plain": [
       "         Classe  RIP Imóvel Nº/RIP Utilização Data do Cadastro do Imóvel  UF  \\\n",
       "0  Uso Especial  1002675003     0001002685009                 2021-07-29  RO   \n",
       "1  Uso Especial  1002695004     0001002705000                 2021-07-29  RO   \n",
       "\n",
       "       Município                                           Endereço  \\\n",
       "0  Guajara-Mirim  GLB GLEBA COMARA - FIGURA 01 SN GLEBA COMARA -...   \n",
       "1  Guajara-Mirim  GLB GLEBA COMARA - FIGURA 2 SN GLEBA COMARA - ...   \n",
       "\n",
       "       Bairro        Latitude    Longitude  \\\n",
       "0  ZONA RURAL  -10,7742780232  -65,3244909   \n",
       "1  ZONA RURAL  -10,7742780232  -65,3244909   \n",
       "\n",
       "                      Nível de Precisão Conceituação do Terreno  \\\n",
       "0  Geocodificado – Município encontrado       Nacional Interior   \n",
       "1  Geocodificado – Município encontrado       Nacional Interior   \n",
       "\n",
       "  Tipo de Imóvel        Regime de Utilização  \\\n",
       "0          Gleba  Em Processso de Destinação   \n",
       "1          Gleba  Em Processso de Destinação   \n",
       "\n",
       "                              Proprietário Oficial Data Início da Utilização  \\\n",
       "0  Fundação ou Autarquia (Adm. Pub. Fed. indireta)                         -   \n",
       "1  Fundação ou Autarquia (Adm. Pub. Fed. indireta)                         -   \n",
       "\n",
       "  Área do Terreno (m²) Área da União (m²)  \n",
       "0                98400              98400  \n",
       "1              1550300            1550300  "
      ]
     },
     "execution_count": 3,
     "metadata": {},
     "output_type": "execute_result"
    }
   ],
   "source": [
    "dados_imoveis.head(2)"
   ]
  },
  {
   "cell_type": "code",
   "execution_count": 4,
   "id": "26ea4a4f-3ad5-4fd1-99e0-ddd2b757d993",
   "metadata": {},
   "outputs": [
    {
     "data": {
      "text/html": [
       "<div>\n",
       "<style scoped>\n",
       "    .dataframe tbody tr th:only-of-type {\n",
       "        vertical-align: middle;\n",
       "    }\n",
       "\n",
       "    .dataframe tbody tr th {\n",
       "        vertical-align: top;\n",
       "    }\n",
       "\n",
       "    .dataframe thead th {\n",
       "        text-align: right;\n",
       "    }\n",
       "</style>\n",
       "<table border=\"1\" class=\"dataframe\">\n",
       "  <thead>\n",
       "    <tr style=\"text-align: right;\">\n",
       "      <th></th>\n",
       "      <th>UF</th>\n",
       "      <th>Município</th>\n",
       "      <th>RIP Imóvel</th>\n",
       "      <th>Nº/RIP Utilização</th>\n",
       "      <th>Endereço</th>\n",
       "      <th>Bairro</th>\n",
       "      <th>CEP</th>\n",
       "      <th>Natureza do Terreno</th>\n",
       "      <th>Matrícula</th>\n",
       "      <th>Nome do Cartório</th>\n",
       "      <th>...</th>\n",
       "      <th>Código da UG</th>\n",
       "      <th>Unidade Gestora</th>\n",
       "      <th>Data do Cadastro do Imóvel</th>\n",
       "      <th>Área do Terreno (m²)</th>\n",
       "      <th>Valor da Utilização (R$)</th>\n",
       "      <th>Valor Contabilizado (R$)</th>\n",
       "      <th>Área Construída  (m²)</th>\n",
       "      <th>Latitude</th>\n",
       "      <th>Longitude</th>\n",
       "      <th>Nível de Precisão</th>\n",
       "    </tr>\n",
       "  </thead>\n",
       "  <tbody>\n",
       "    <tr>\n",
       "      <th>0</th>\n",
       "      <td>AC</td>\n",
       "      <td>Acrelandia</td>\n",
       "      <td>643000015000</td>\n",
       "      <td>0643000025005</td>\n",
       "      <td>AV Quaddra 0816 Lote 03</td>\n",
       "      <td>Centro</td>\n",
       "      <td>69945000</td>\n",
       "      <td>Urbano</td>\n",
       "      <td>00000002</td>\n",
       "      <td>REGISTRO DE IMÓVEIS 1ºTÓRIO DE IMÓVEIS DE ACRE...</td>\n",
       "      <td>...</td>\n",
       "      <td>255001</td>\n",
       "      <td>FUNDACAO NACIONAL DE SAUDE</td>\n",
       "      <td>03/06/2013</td>\n",
       "      <td>765</td>\n",
       "      <td>114753,98</td>\n",
       "      <td>114753,98</td>\n",
       "      <td>148,29</td>\n",
       "      <td>-10,079425</td>\n",
       "      <td>-67,053972</td>\n",
       "      <td>Sistemas da SPU</td>\n",
       "    </tr>\n",
       "    <tr>\n",
       "      <th>1</th>\n",
       "      <td>AC</td>\n",
       "      <td>Acrelandia</td>\n",
       "      <td>643000035000</td>\n",
       "      <td>0643000045006</td>\n",
       "      <td>FAZ Área de Terra, localizada no Município de ...</td>\n",
       "      <td>ZONA RURAL</td>\n",
       "      <td>69945000</td>\n",
       "      <td>Urbano</td>\n",
       "      <td>283</td>\n",
       "      <td>Registro de Imovel da Comarca de Senador Guiomard</td>\n",
       "      <td>...</td>\n",
       "      <td>373015</td>\n",
       "      <td>INSTIT. NAC. DE COLONIZACAO E REFORMA AGRARIA</td>\n",
       "      <td>16/05/2017</td>\n",
       "      <td>24348,93</td>\n",
       "      <td>365233974</td>\n",
       "      <td>365233974</td>\n",
       "      <td>0</td>\n",
       "      <td>-10,0764608</td>\n",
       "      <td>-67,0586512</td>\n",
       "      <td>Manual - No Município</td>\n",
       "    </tr>\n",
       "  </tbody>\n",
       "</table>\n",
       "<p>2 rows × 24 columns</p>\n",
       "</div>"
      ],
      "text/plain": [
       "   UF   Município    RIP Imóvel Nº/RIP Utilização  \\\n",
       "0  AC  Acrelandia  643000015000     0643000025005   \n",
       "1  AC  Acrelandia  643000035000     0643000045006   \n",
       "\n",
       "                                            Endereço      Bairro       CEP  \\\n",
       "0                            AV Quaddra 0816 Lote 03      Centro  69945000   \n",
       "1  FAZ Área de Terra, localizada no Município de ...  ZONA RURAL  69945000   \n",
       "\n",
       "  Natureza do Terreno Matrícula  \\\n",
       "0              Urbano  00000002   \n",
       "1              Urbano       283   \n",
       "\n",
       "                                    Nome do Cartório  ... Código da UG  \\\n",
       "0  REGISTRO DE IMÓVEIS 1ºTÓRIO DE IMÓVEIS DE ACRE...  ...       255001   \n",
       "1  Registro de Imovel da Comarca de Senador Guiomard  ...       373015   \n",
       "\n",
       "                                 Unidade Gestora Data do Cadastro do Imóvel  \\\n",
       "0                     FUNDACAO NACIONAL DE SAUDE                 03/06/2013   \n",
       "1  INSTIT. NAC. DE COLONIZACAO E REFORMA AGRARIA                 16/05/2017   \n",
       "\n",
       "  Área do Terreno (m²)  Valor da Utilização (R$) Valor Contabilizado (R$)  \\\n",
       "0                  765                 114753,98                114753,98   \n",
       "1             24348,93                 365233974                365233974   \n",
       "\n",
       "  Área Construída  (m²)     Latitude    Longitude      Nível de Precisão  \n",
       "0                148,29   -10,079425   -67,053972        Sistemas da SPU  \n",
       "1                     0  -10,0764608  -67,0586512  Manual - No Município  \n",
       "\n",
       "[2 rows x 24 columns]"
      ]
     },
     "execution_count": 4,
     "metadata": {},
     "output_type": "execute_result"
    }
   ],
   "source": [
    "dados_complementares.head(2)"
   ]
  },
  {
   "cell_type": "code",
   "execution_count": 5,
   "id": "b19e6cb7-418c-41f3-a44f-92ad8905a530",
   "metadata": {},
   "outputs": [],
   "source": [
    "dados = dados_imoveis.merge(dados_complementares[[\"RIP Imóvel\", \"Unidade Gestora\", \"Valor da Utilização (R$)\", \"Valor Contabilizado (R$)\", \"Área Construída  (m²)\", \"Unidade Gestora\"]], on=\"RIP Imóvel\")"
   ]
  },
  {
   "cell_type": "code",
   "execution_count": 6,
   "id": "73c35bc6-8a4e-4e4e-a5da-45f74f40cc18",
   "metadata": {},
   "outputs": [
    {
     "data": {
      "text/plain": [
       "Index(['Classe', 'RIP Imóvel', 'Nº/RIP Utilização',\n",
       "       'Data do Cadastro do Imóvel', 'UF', 'Município', 'Endereço', 'Bairro',\n",
       "       'Latitude', 'Longitude', 'Nível de Precisão', 'Conceituação do Terreno',\n",
       "       'Tipo de Imóvel', 'Regime de Utilização', 'Proprietário Oficial',\n",
       "       'Data Início da Utilização', 'Área do Terreno (m²)',\n",
       "       'Área da União (m²)', 'Unidade Gestora', 'Valor da Utilização (R$)',\n",
       "       'Valor Contabilizado (R$)', 'Área Construída  (m²)', 'Unidade Gestora'],\n",
       "      dtype='object')"
      ]
     },
     "execution_count": 6,
     "metadata": {},
     "output_type": "execute_result"
    }
   ],
   "source": [
    "dados.columns"
   ]
  },
  {
   "cell_type": "code",
   "execution_count": 7,
   "id": "e54f8dd5-c0c0-4a26-bc4b-e9b39f259daa",
   "metadata": {},
   "outputs": [],
   "source": [
    "dados.sample(n=100).to_csv(\"sample_base_de_dados_SPU.csv\", index=False)"
   ]
  },
  {
   "cell_type": "markdown",
   "id": "648221da-8a4b-4a1a-98c1-d1cc88b1d7a6",
   "metadata": {},
   "source": [
    "## Seleção de colunas"
   ]
  },
  {
   "cell_type": "code",
   "execution_count": 8,
   "id": "46f904a2-8288-43a1-8cc9-a0d6af25f000",
   "metadata": {},
   "outputs": [
    {
     "data": {
      "text/plain": [
       "Index(['Classe', 'RIP Imóvel', 'Nº/RIP Utilização',\n",
       "       'Data do Cadastro do Imóvel', 'UF', 'Município', 'Endereço', 'Bairro',\n",
       "       'Latitude', 'Longitude', 'Nível de Precisão', 'Conceituação do Terreno',\n",
       "       'Tipo de Imóvel', 'Regime de Utilização', 'Proprietário Oficial',\n",
       "       'Data Início da Utilização', 'Área do Terreno (m²)',\n",
       "       'Área da União (m²)', 'Unidade Gestora', 'Valor da Utilização (R$)',\n",
       "       'Valor Contabilizado (R$)', 'Área Construída  (m²)', 'Unidade Gestora'],\n",
       "      dtype='object')"
      ]
     },
     "execution_count": 8,
     "metadata": {},
     "output_type": "execute_result"
    }
   ],
   "source": [
    "dados.columns"
   ]
  },
  {
   "cell_type": "code",
   "execution_count": 9,
   "id": "a40e6975-6441-4061-8cdb-009c6587fbe5",
   "metadata": {},
   "outputs": [],
   "source": [
    "colunas = ['Classe', 'RIP Imóvel',\n",
    "       'Data do Cadastro do Imóvel', 'UF', 'Município', 'Endereço', 'Bairro',\n",
    "       'Latitude', 'Longitude', 'Conceituação do Terreno',\n",
    "       'Tipo de Imóvel', 'Regime de Utilização', 'Proprietário Oficial',\n",
    "       'Data Início da Utilização', 'Área do Terreno (m²)',\n",
    "       'Área da União (m²)', 'Valor da Utilização (R$)',\n",
    "       'Valor Contabilizado (R$)', 'Área Construída  (m²)']\n",
    "\n",
    "colunas_numericas = ['Área do Terreno (m²)',\n",
    "       'Área da União (m²)', 'Valor da Utilização (R$)',\n",
    "       'Valor Contabilizado (R$)', 'Área Construída  (m²)'] \n",
    "\n",
    "colunas_datas = ['Data do Cadastro do Imóvel', 'Data Início da Utilização']\n",
    "\n",
    "#'Latitude', 'Longitude'"
   ]
  },
  {
   "cell_type": "markdown",
   "id": "c509f739-0f30-4294-91e4-c8f410e13a87",
   "metadata": {},
   "source": [
    "## Transformações dos dados"
   ]
  },
  {
   "cell_type": "code",
   "execution_count": 10,
   "id": "2de30c1d-0ada-49c8-ae20-5772885abe0f",
   "metadata": {},
   "outputs": [],
   "source": [
    "dados.dropna(inplace=True)"
   ]
  },
  {
   "cell_type": "code",
   "execution_count": 11,
   "id": "75f594be-ad16-4e14-a501-a2733e1750ad",
   "metadata": {},
   "outputs": [],
   "source": [
    "for c in colunas_numericas:\n",
    "    dados[c] = pd.to_numeric(dados[c].str.replace(\",\", \".\"))"
   ]
  },
  {
   "cell_type": "code",
   "execution_count": 12,
   "id": "cd80728e-6e64-4003-8d3e-a6dd648d99a1",
   "metadata": {},
   "outputs": [
    {
     "name": "stderr",
     "output_type": "stream",
     "text": [
      "C:\\Users\\felip\\AppData\\Local\\Temp\\ipykernel_6360\\3421052545.py:2: UserWarning: Parsing dates in DD/MM/YYYY format when dayfirst=False (the default) was specified. This may lead to inconsistently parsed dates! Specify a format to ensure consistent parsing.\n",
      "  dados[c] = pd.to_datetime(dados[c], errors='coerce')\n"
     ]
    }
   ],
   "source": [
    "for c in colunas_datas:\n",
    "    dados[c] = pd.to_datetime(dados[c], errors='coerce')"
   ]
  },
  {
   "cell_type": "code",
   "execution_count": 13,
   "id": "b0c29c95-4bf9-4437-a0f9-02553d653d5e",
   "metadata": {},
   "outputs": [
    {
     "data": {
      "text/html": [
       "<div>\n",
       "<style scoped>\n",
       "    .dataframe tbody tr th:only-of-type {\n",
       "        vertical-align: middle;\n",
       "    }\n",
       "\n",
       "    .dataframe tbody tr th {\n",
       "        vertical-align: top;\n",
       "    }\n",
       "\n",
       "    .dataframe thead th {\n",
       "        text-align: right;\n",
       "    }\n",
       "</style>\n",
       "<table border=\"1\" class=\"dataframe\">\n",
       "  <thead>\n",
       "    <tr style=\"text-align: right;\">\n",
       "      <th></th>\n",
       "      <th>Valor da Utilização (R$)</th>\n",
       "      <th>Valor Contabilizado (R$)</th>\n",
       "    </tr>\n",
       "  </thead>\n",
       "  <tbody>\n",
       "    <tr>\n",
       "      <th>count</th>\n",
       "      <td>1.707500e+04</td>\n",
       "      <td>1.707500e+04</td>\n",
       "    </tr>\n",
       "    <tr>\n",
       "      <th>mean</th>\n",
       "      <td>2.063835e+07</td>\n",
       "      <td>7.178635e+07</td>\n",
       "    </tr>\n",
       "    <tr>\n",
       "      <th>std</th>\n",
       "      <td>4.478724e+08</td>\n",
       "      <td>3.633317e+08</td>\n",
       "    </tr>\n",
       "    <tr>\n",
       "      <th>min</th>\n",
       "      <td>0.000000e+00</td>\n",
       "      <td>0.000000e+00</td>\n",
       "    </tr>\n",
       "    <tr>\n",
       "      <th>25%</th>\n",
       "      <td>1.547154e+05</td>\n",
       "      <td>4.272331e+05</td>\n",
       "    </tr>\n",
       "    <tr>\n",
       "      <th>50%</th>\n",
       "      <td>4.034915e+05</td>\n",
       "      <td>3.931527e+07</td>\n",
       "    </tr>\n",
       "    <tr>\n",
       "      <th>75%</th>\n",
       "      <td>1.380551e+06</td>\n",
       "      <td>9.286749e+07</td>\n",
       "    </tr>\n",
       "    <tr>\n",
       "      <th>max</th>\n",
       "      <td>4.771466e+10</td>\n",
       "      <td>1.679302e+10</td>\n",
       "    </tr>\n",
       "  </tbody>\n",
       "</table>\n",
       "</div>"
      ],
      "text/plain": [
       "       Valor da Utilização (R$)  Valor Contabilizado (R$)\n",
       "count              1.707500e+04              1.707500e+04\n",
       "mean               2.063835e+07              7.178635e+07\n",
       "std                4.478724e+08              3.633317e+08\n",
       "min                0.000000e+00              0.000000e+00\n",
       "25%                1.547154e+05              4.272331e+05\n",
       "50%                4.034915e+05              3.931527e+07\n",
       "75%                1.380551e+06              9.286749e+07\n",
       "max                4.771466e+10              1.679302e+10"
      ]
     },
     "execution_count": 13,
     "metadata": {},
     "output_type": "execute_result"
    }
   ],
   "source": [
    "dados[['Valor da Utilização (R$)',\n",
    "       'Valor Contabilizado (R$)']].describe()"
   ]
  },
  {
   "cell_type": "code",
   "execution_count": 14,
   "id": "80bab4b6-91e1-4b3a-b8b8-7e7c1dee7013",
   "metadata": {},
   "outputs": [
    {
     "name": "stdout",
     "output_type": "stream",
     "text": [
      "<class 'pandas.core.frame.DataFrame'>\n",
      "Int64Index: 17075 entries, 0 to 17075\n",
      "Data columns (total 23 columns):\n",
      " #   Column                      Non-Null Count  Dtype         \n",
      "---  ------                      --------------  -----         \n",
      " 0   Classe                      17075 non-null  object        \n",
      " 1   RIP Imóvel                  17075 non-null  int64         \n",
      " 2   Nº/RIP Utilização           17075 non-null  object        \n",
      " 3   Data do Cadastro do Imóvel  17075 non-null  datetime64[ns]\n",
      " 4   UF                          17075 non-null  object        \n",
      " 5   Município                   17075 non-null  object        \n",
      " 6   Endereço                    17075 non-null  object        \n",
      " 7   Bairro                      17075 non-null  object        \n",
      " 8   Latitude                    17075 non-null  object        \n",
      " 9   Longitude                   17075 non-null  object        \n",
      " 10  Nível de Precisão           17075 non-null  object        \n",
      " 11  Conceituação do Terreno     17075 non-null  object        \n",
      " 12  Tipo de Imóvel              17075 non-null  object        \n",
      " 13  Regime de Utilização        17075 non-null  object        \n",
      " 14  Proprietário Oficial        17075 non-null  object        \n",
      " 15  Data Início da Utilização   15102 non-null  datetime64[ns]\n",
      " 16  Área do Terreno (m²)        17075 non-null  float64       \n",
      " 17  Área da União (m²)          17075 non-null  float64       \n",
      " 18  Unidade Gestora             17075 non-null  object        \n",
      " 19  Valor da Utilização (R$)    17075 non-null  float64       \n",
      " 20  Valor Contabilizado (R$)    17075 non-null  float64       \n",
      " 21  Área Construída  (m²)       17075 non-null  float64       \n",
      " 22  Unidade Gestora             17075 non-null  object        \n",
      "dtypes: datetime64[ns](2), float64(5), int64(1), object(15)\n",
      "memory usage: 3.1+ MB\n"
     ]
    }
   ],
   "source": [
    "dados.info()"
   ]
  },
  {
   "attachments": {},
   "cell_type": "markdown",
   "id": "f6378638-d88d-499d-8969-420094aa3656",
   "metadata": {},
   "source": [
    "## Separação de tabelas"
   ]
  },
  {
   "cell_type": "code",
   "execution_count": 21,
   "id": "94c6b1b4-e829-4b8b-a283-ffd3d2c6a45c",
   "metadata": {},
   "outputs": [
    {
     "data": {
      "text/html": [
       "<div>\n",
       "<style scoped>\n",
       "    .dataframe tbody tr th:only-of-type {\n",
       "        vertical-align: middle;\n",
       "    }\n",
       "\n",
       "    .dataframe tbody tr th {\n",
       "        vertical-align: top;\n",
       "    }\n",
       "\n",
       "    .dataframe thead th {\n",
       "        text-align: right;\n",
       "    }\n",
       "</style>\n",
       "<table border=\"1\" class=\"dataframe\">\n",
       "  <thead>\n",
       "    <tr style=\"text-align: right;\">\n",
       "      <th></th>\n",
       "      <th>Classe</th>\n",
       "      <th>RIP Imóvel</th>\n",
       "      <th>Nº/RIP Utilização</th>\n",
       "      <th>Data do Cadastro do Imóvel</th>\n",
       "      <th>UF</th>\n",
       "      <th>Município</th>\n",
       "      <th>Endereço</th>\n",
       "      <th>Bairro</th>\n",
       "      <th>Latitude</th>\n",
       "      <th>Longitude</th>\n",
       "      <th>...</th>\n",
       "      <th>Regime de Utilização</th>\n",
       "      <th>Proprietário Oficial</th>\n",
       "      <th>Data Início da Utilização</th>\n",
       "      <th>Área do Terreno (m²)</th>\n",
       "      <th>Área da União (m²)</th>\n",
       "      <th>Unidade Gestora</th>\n",
       "      <th>Valor da Utilização (R$)</th>\n",
       "      <th>Valor Contabilizado (R$)</th>\n",
       "      <th>Área Construída  (m²)</th>\n",
       "      <th>Unidade Gestora</th>\n",
       "    </tr>\n",
       "  </thead>\n",
       "  <tbody>\n",
       "    <tr>\n",
       "      <th>0</th>\n",
       "      <td>Uso Especial</td>\n",
       "      <td>1002675003</td>\n",
       "      <td>0001002685009</td>\n",
       "      <td>2021-07-29</td>\n",
       "      <td>RO</td>\n",
       "      <td>Guajara-Mirim</td>\n",
       "      <td>GLB GLEBA COMARA - FIGURA 01 SN GLEBA COMARA -...</td>\n",
       "      <td>ZONA RURAL</td>\n",
       "      <td>-10,7742780232</td>\n",
       "      <td>-65,3244909</td>\n",
       "      <td>...</td>\n",
       "      <td>Em Processso de Destinação</td>\n",
       "      <td>Fundação ou Autarquia (Adm. Pub. Fed. indireta)</td>\n",
       "      <td>NaT</td>\n",
       "      <td>98400.0</td>\n",
       "      <td>98400.0</td>\n",
       "      <td>INSTIT. NAC. DE COLONIZACAO E REFORMA AGRARIA</td>\n",
       "      <td>73628.13</td>\n",
       "      <td>73628.13</td>\n",
       "      <td>0.0</td>\n",
       "      <td>INSTIT. NAC. DE COLONIZACAO E REFORMA AGRARIA</td>\n",
       "    </tr>\n",
       "    <tr>\n",
       "      <th>1</th>\n",
       "      <td>Uso Especial</td>\n",
       "      <td>1002695004</td>\n",
       "      <td>0001002705000</td>\n",
       "      <td>2021-07-29</td>\n",
       "      <td>RO</td>\n",
       "      <td>Guajara-Mirim</td>\n",
       "      <td>GLB GLEBA COMARA - FIGURA 2 SN GLEBA COMARA - ...</td>\n",
       "      <td>ZONA RURAL</td>\n",
       "      <td>-10,7742780232</td>\n",
       "      <td>-65,3244909</td>\n",
       "      <td>...</td>\n",
       "      <td>Em Processso de Destinação</td>\n",
       "      <td>Fundação ou Autarquia (Adm. Pub. Fed. indireta)</td>\n",
       "      <td>NaT</td>\n",
       "      <td>1550300.0</td>\n",
       "      <td>1550300.0</td>\n",
       "      <td>INSTIT. NAC. DE COLONIZACAO E REFORMA AGRARIA</td>\n",
       "      <td>1160017.14</td>\n",
       "      <td>1160017.14</td>\n",
       "      <td>0.0</td>\n",
       "      <td>INSTIT. NAC. DE COLONIZACAO E REFORMA AGRARIA</td>\n",
       "    </tr>\n",
       "    <tr>\n",
       "      <th>2</th>\n",
       "      <td>Uso Especial</td>\n",
       "      <td>1002715005</td>\n",
       "      <td>0001002725000</td>\n",
       "      <td>2021-07-29</td>\n",
       "      <td>RO</td>\n",
       "      <td>Guajara-Mirim</td>\n",
       "      <td>GLB GLEBA COMARA - MINISTÉRIO DA AERONÁUTICA S...</td>\n",
       "      <td>ZONA RURAL</td>\n",
       "      <td>-10,7742780232</td>\n",
       "      <td>-65,3244909</td>\n",
       "      <td>...</td>\n",
       "      <td>Em Processso de Destinação</td>\n",
       "      <td>Fundação ou Autarquia (Adm. Pub. Fed. indireta)</td>\n",
       "      <td>NaT</td>\n",
       "      <td>8512647.0</td>\n",
       "      <td>8512647.0</td>\n",
       "      <td>INSTIT. NAC. DE COLONIZACAO E REFORMA AGRARIA</td>\n",
       "      <td>6369616.49</td>\n",
       "      <td>6369616.49</td>\n",
       "      <td>0.0</td>\n",
       "      <td>INSTIT. NAC. DE COLONIZACAO E REFORMA AGRARIA</td>\n",
       "    </tr>\n",
       "  </tbody>\n",
       "</table>\n",
       "<p>3 rows × 23 columns</p>\n",
       "</div>"
      ],
      "text/plain": [
       "         Classe  RIP Imóvel Nº/RIP Utilização Data do Cadastro do Imóvel  UF  \\\n",
       "0  Uso Especial  1002675003     0001002685009                 2021-07-29  RO   \n",
       "1  Uso Especial  1002695004     0001002705000                 2021-07-29  RO   \n",
       "2  Uso Especial  1002715005     0001002725000                 2021-07-29  RO   \n",
       "\n",
       "       Município                                           Endereço  \\\n",
       "0  Guajara-Mirim  GLB GLEBA COMARA - FIGURA 01 SN GLEBA COMARA -...   \n",
       "1  Guajara-Mirim  GLB GLEBA COMARA - FIGURA 2 SN GLEBA COMARA - ...   \n",
       "2  Guajara-Mirim  GLB GLEBA COMARA - MINISTÉRIO DA AERONÁUTICA S...   \n",
       "\n",
       "       Bairro        Latitude    Longitude  ...        Regime de Utilização  \\\n",
       "0  ZONA RURAL  -10,7742780232  -65,3244909  ...  Em Processso de Destinação   \n",
       "1  ZONA RURAL  -10,7742780232  -65,3244909  ...  Em Processso de Destinação   \n",
       "2  ZONA RURAL  -10,7742780232  -65,3244909  ...  Em Processso de Destinação   \n",
       "\n",
       "                              Proprietário Oficial Data Início da Utilização  \\\n",
       "0  Fundação ou Autarquia (Adm. Pub. Fed. indireta)                       NaT   \n",
       "1  Fundação ou Autarquia (Adm. Pub. Fed. indireta)                       NaT   \n",
       "2  Fundação ou Autarquia (Adm. Pub. Fed. indireta)                       NaT   \n",
       "\n",
       "  Área do Terreno (m²) Área da União (m²)  \\\n",
       "0              98400.0            98400.0   \n",
       "1            1550300.0          1550300.0   \n",
       "2            8512647.0          8512647.0   \n",
       "\n",
       "                                 Unidade Gestora  Valor da Utilização (R$)  \\\n",
       "0  INSTIT. NAC. DE COLONIZACAO E REFORMA AGRARIA                  73628.13   \n",
       "1  INSTIT. NAC. DE COLONIZACAO E REFORMA AGRARIA                1160017.14   \n",
       "2  INSTIT. NAC. DE COLONIZACAO E REFORMA AGRARIA                6369616.49   \n",
       "\n",
       "   Valor Contabilizado (R$) Área Construída  (m²)  \\\n",
       "0                  73628.13                   0.0   \n",
       "1                1160017.14                   0.0   \n",
       "2                6369616.49                   0.0   \n",
       "\n",
       "                                 Unidade Gestora  \n",
       "0  INSTIT. NAC. DE COLONIZACAO E REFORMA AGRARIA  \n",
       "1  INSTIT. NAC. DE COLONIZACAO E REFORMA AGRARIA  \n",
       "2  INSTIT. NAC. DE COLONIZACAO E REFORMA AGRARIA  \n",
       "\n",
       "[3 rows x 23 columns]"
      ]
     },
     "execution_count": 21,
     "metadata": {},
     "output_type": "execute_result"
    }
   ],
   "source": [
    "dados.head(3)"
   ]
  },
  {
   "cell_type": "markdown",
   "id": "d4a88c76-2ae4-4b1c-bb2b-7597c61764e2",
   "metadata": {},
   "source": [
    "### Dimensões"
   ]
  },
  {
   "cell_type": "code",
   "execution_count": 134,
   "id": "6f412ddc-7606-4bef-9f96-988a1523bb47",
   "metadata": {},
   "outputs": [],
   "source": [
    "dConceituacao = dados[[\"Conceituação do Terreno\"]].drop_duplicates().reset_index(drop=True).rename(columns={\"Conceituação do Terreno\":\"conceituacao_terreno\"})\n",
    "dTipo = dados[[\"Tipo de Imóvel\"]].drop_duplicates().reset_index(drop=True).rename(columns={\"Tipo de Imóvel\":\"tipo\"})\n",
    "dClasse = dados[[\"Classe\"]].drop_duplicates().reset_index(drop=True).rename(columns={\"Classe\":\"classe\"})\n",
    "dRegime = dados[[\"Regime de Utilização\"]].drop_duplicates().reset_index(drop=True).rename(columns={\"Regime de Utilização\":\"regime\"})\n",
    "dProprietario = dados[[\"Proprietário Oficial\"]].drop_duplicates().reset_index(drop=True).rename(columns={\"Proprietário Oficial\":\"proprietario\"})"
   ]
  },
  {
   "cell_type": "code",
   "execution_count": 135,
   "id": "74aa37c6-2f58-4e81-9a38-d7deb341f6eb",
   "metadata": {},
   "outputs": [],
   "source": [
    "# Endereço: Bairro,Cidade,UF,Loc\n",
    "colunas_loc = ['UF', 'Município', 'Endereço', 'Bairro',\n",
    "       'Latitude', 'Longitude']\n",
    "locais_map = dados[colunas_loc].apply(lambda row: '; '.join(row.values.astype(str)), axis=1)"
   ]
  },
  {
   "cell_type": "code",
   "execution_count": 136,
   "id": "919bec51-9f38-4822-a647-70ef886a4080",
   "metadata": {},
   "outputs": [],
   "source": [
    "dados['Latitude'] = dados['Latitude'].replace('-', np.nan)\n",
    "dados['Longitude'] = dados['Longitude'].replace('-', np.nan)\n",
    "dados.dropna(inplace=True)\n",
    "dados[\"local\"] = locais_map"
   ]
  },
  {
   "cell_type": "code",
   "execution_count": 137,
   "id": "3bb46462-d8fc-4b24-bcb6-f445ecf3c0f2",
   "metadata": {},
   "outputs": [],
   "source": [
    "dLocal = dados[colunas_loc]"
   ]
  },
  {
   "cell_type": "code",
   "execution_count": 138,
   "id": "69dd4936-ce26-49c8-a09f-d48fc68dddf7",
   "metadata": {},
   "outputs": [
    {
     "name": "stderr",
     "output_type": "stream",
     "text": [
      "C:\\Users\\felip\\AppData\\Local\\Temp\\ipykernel_6360\\3335955860.py:1: SettingWithCopyWarning: \n",
      "A value is trying to be set on a copy of a slice from a DataFrame.\n",
      "Try using .loc[row_indexer,col_indexer] = value instead\n",
      "\n",
      "See the caveats in the documentation: https://pandas.pydata.org/pandas-docs/stable/user_guide/indexing.html#returning-a-view-versus-a-copy\n",
      "  dLocal[\"local\"] = locais_map\n"
     ]
    }
   ],
   "source": [
    "dLocal[\"local\"] = locais_map"
   ]
  },
  {
   "cell_type": "code",
   "execution_count": 139,
   "id": "d9f54a54-c6b9-4dce-8a80-459e05f3cd8b",
   "metadata": {},
   "outputs": [],
   "source": [
    "dLocal = dLocal.drop_duplicates(\"local\").reset_index(drop=True)"
   ]
  },
  {
   "cell_type": "code",
   "execution_count": 140,
   "id": "6619be3a-71ba-49c6-892b-ebce57ce7016",
   "metadata": {},
   "outputs": [
    {
     "name": "stdout",
     "output_type": "stream",
     "text": [
      "<class 'pandas.core.frame.DataFrame'>\n",
      "RangeIndex: 3609 entries, 0 to 3608\n",
      "Data columns (total 7 columns):\n",
      " #   Column     Non-Null Count  Dtype \n",
      "---  ------     --------------  ----- \n",
      " 0   UF         3609 non-null   object\n",
      " 1   Município  3609 non-null   object\n",
      " 2   Endereço   3609 non-null   object\n",
      " 3   Bairro     3609 non-null   object\n",
      " 4   Latitude   3609 non-null   object\n",
      " 5   Longitude  3609 non-null   object\n",
      " 6   local      3609 non-null   object\n",
      "dtypes: object(7)\n",
      "memory usage: 197.5+ KB\n"
     ]
    }
   ],
   "source": [
    "dLocal.info()"
   ]
  },
  {
   "cell_type": "code",
   "execution_count": 141,
   "id": "a5595acb-1e20-49f6-b182-efb155e49ae6",
   "metadata": {},
   "outputs": [],
   "source": [
    "datas = dados[[\"Data Início da Utilização\", \"Data do Cadastro do Imóvel\"]].drop_duplicates()\n",
    "datas.dropna(inplace=True)"
   ]
  },
  {
   "cell_type": "code",
   "execution_count": 142,
   "id": "667a2b71-b163-4e06-9db1-6dcc42892baa",
   "metadata": {},
   "outputs": [
    {
     "data": {
      "text/plain": [
       "Timestamp('1946-01-01 00:00:00')"
      ]
     },
     "execution_count": 142,
     "metadata": {},
     "output_type": "execute_result"
    }
   ],
   "source": [
    "datas[\"Data Início da Utilização\"].min()"
   ]
  },
  {
   "cell_type": "code",
   "execution_count": 143,
   "id": "7bc0eb48-fb20-4eb0-b986-3f103651b100",
   "metadata": {},
   "outputs": [
    {
     "data": {
      "text/plain": [
       "Timestamp('2024-12-06 00:00:00')"
      ]
     },
     "execution_count": 143,
     "metadata": {},
     "output_type": "execute_result"
    }
   ],
   "source": [
    "datas[\"Data Início da Utilização\"].max()"
   ]
  },
  {
   "cell_type": "code",
   "execution_count": 144,
   "id": "0b1e7c16-963f-484b-b495-9066d18c1b85",
   "metadata": {},
   "outputs": [
    {
     "data": {
      "text/plain": [
       "Timestamp('2020-01-04 00:00:00')"
      ]
     },
     "execution_count": 144,
     "metadata": {},
     "output_type": "execute_result"
    }
   ],
   "source": [
    "datas[\"Data do Cadastro do Imóvel\"].min()"
   ]
  },
  {
   "cell_type": "code",
   "execution_count": 145,
   "id": "7a3deae8-ad49-40fb-89ed-47892ad079bc",
   "metadata": {},
   "outputs": [
    {
     "data": {
      "text/plain": [
       "Timestamp('2022-12-09 00:00:00')"
      ]
     },
     "execution_count": 145,
     "metadata": {},
     "output_type": "execute_result"
    }
   ],
   "source": [
    "datas[\"Data do Cadastro do Imóvel\"].max()"
   ]
  },
  {
   "cell_type": "code",
   "execution_count": 146,
   "id": "4b53b9c8-4ea4-4558-a408-8d8e0631f9c3",
   "metadata": {},
   "outputs": [
    {
     "data": {
      "text/html": [
       "<div>\n",
       "<style scoped>\n",
       "    .dataframe tbody tr th:only-of-type {\n",
       "        vertical-align: middle;\n",
       "    }\n",
       "\n",
       "    .dataframe tbody tr th {\n",
       "        vertical-align: top;\n",
       "    }\n",
       "\n",
       "    .dataframe thead th {\n",
       "        text-align: right;\n",
       "    }\n",
       "</style>\n",
       "<table border=\"1\" class=\"dataframe\">\n",
       "  <thead>\n",
       "    <tr style=\"text-align: right;\">\n",
       "      <th></th>\n",
       "      <th>data</th>\n",
       "    </tr>\n",
       "  </thead>\n",
       "  <tbody>\n",
       "    <tr>\n",
       "      <th>0</th>\n",
       "      <td>1946-01-01</td>\n",
       "    </tr>\n",
       "    <tr>\n",
       "      <th>1</th>\n",
       "      <td>1946-01-02</td>\n",
       "    </tr>\n",
       "    <tr>\n",
       "      <th>2</th>\n",
       "      <td>1946-01-03</td>\n",
       "    </tr>\n",
       "    <tr>\n",
       "      <th>3</th>\n",
       "      <td>1946-01-04</td>\n",
       "    </tr>\n",
       "    <tr>\n",
       "      <th>4</th>\n",
       "      <td>1946-01-05</td>\n",
       "    </tr>\n",
       "    <tr>\n",
       "      <th>...</th>\n",
       "      <td>...</td>\n",
       "    </tr>\n",
       "    <tr>\n",
       "      <th>28828</th>\n",
       "      <td>2024-12-05</td>\n",
       "    </tr>\n",
       "    <tr>\n",
       "      <th>28829</th>\n",
       "      <td>2024-12-06</td>\n",
       "    </tr>\n",
       "    <tr>\n",
       "      <th>28830</th>\n",
       "      <td>2024-12-07</td>\n",
       "    </tr>\n",
       "    <tr>\n",
       "      <th>28831</th>\n",
       "      <td>2024-12-08</td>\n",
       "    </tr>\n",
       "    <tr>\n",
       "      <th>28832</th>\n",
       "      <td>2024-12-09</td>\n",
       "    </tr>\n",
       "  </tbody>\n",
       "</table>\n",
       "<p>28833 rows × 1 columns</p>\n",
       "</div>"
      ],
      "text/plain": [
       "            data\n",
       "0     1946-01-01\n",
       "1     1946-01-02\n",
       "2     1946-01-03\n",
       "3     1946-01-04\n",
       "4     1946-01-05\n",
       "...          ...\n",
       "28828 2024-12-05\n",
       "28829 2024-12-06\n",
       "28830 2024-12-07\n",
       "28831 2024-12-08\n",
       "28832 2024-12-09\n",
       "\n",
       "[28833 rows x 1 columns]"
      ]
     },
     "execution_count": 146,
     "metadata": {},
     "output_type": "execute_result"
    }
   ],
   "source": [
    "dCalendario = pd.DataFrame({\n",
    "    'data': pd.date_range(start='1946-01-01 00:00:00', end='2024-12-09 00:00:00', freq='D')\n",
    "})\n",
    "dCalendario"
   ]
  },
  {
   "cell_type": "code",
   "execution_count": 171,
   "id": "59c6b1e7-1cb6-44ea-ac53-cfafb4e4b88d",
   "metadata": {},
   "outputs": [],
   "source": [
    "dict_map_conceituacao = {v: k for k, v in dConceituacao.to_dict().get(dConceituacao.columns[0]).items()}\n",
    "dict_map_regime = {v: k for k, v in  dRegime.to_dict().get(dRegime.columns[0]).items()}\n",
    "dict_map_prop = {v: k for k, v in  dProprietario.to_dict().get(dProprietario.columns[0]).items()}\n",
    "dict_map_classe= {v: k for k, v in  dClasse.to_dict().get(dClasse.columns[0]).items()}\n",
    "dict_map_tipo = {v: k for k, v in  dTipo.to_dict().get(dTipo.columns[0]).items()}\n",
    "dict_map_local = {v: k for k, v in  dLocal[\"local\"].to_dict().items()}"
   ]
  },
  {
   "cell_type": "code",
   "execution_count": 172,
   "id": "05c4350c-4faa-4836-926e-15e83f848e5d",
   "metadata": {},
   "outputs": [
    {
     "data": {
      "text/plain": [
       "{'Nacional Interior': 0,\n",
       " 'Não Informado': 1,\n",
       " 'Terra Indigena': 2,\n",
       " 'Superfície Contígua de Água Exposta': 3,\n",
       " 'Marinha com Acrescido': 4,\n",
       " 'Marinha com Nacional Interior': 5,\n",
       " 'Acrescido de Marinha': 6,\n",
       " 'Marginal de Rio': 7,\n",
       " 'Marinha': 8}"
      ]
     },
     "execution_count": 172,
     "metadata": {},
     "output_type": "execute_result"
    }
   ],
   "source": [
    "dict_map_conceituacao"
   ]
  },
  {
   "cell_type": "code",
   "execution_count": 173,
   "id": "0710eba4-3cd0-4d59-8b75-0d8793d08346",
   "metadata": {},
   "outputs": [
    {
     "data": {
      "text/plain": [
       "{'União (Adm. Pub. Fed. direta)': 0,\n",
       " 'Fundação ou Autarquia (Adm. Pub. Fed. indireta)': 1,\n",
       " 'Outros': 2,\n",
       " 'Empresa Estatal dependente (Adm. Pub. Fed. indireta)': 3}"
      ]
     },
     "execution_count": 173,
     "metadata": {},
     "output_type": "execute_result"
    }
   ],
   "source": [
    "dict_map_prop"
   ]
  },
  {
   "cell_type": "code",
   "execution_count": 174,
   "id": "e6fe7ebd-633e-4c46-ab58-a02fe4b5d646",
   "metadata": {},
   "outputs": [
    {
     "data": {
      "text/plain": [
       "{'Em Processso de Destinação': 0,\n",
       " 'Uso próprio em serviço público': 1,\n",
       " 'Locação De Terceiros': 2,\n",
       " 'Sem Destinação Definida': 3,\n",
       " 'Entrega': 4,\n",
       " 'Cessão de uso onerosa/em condições especiais': 5,\n",
       " 'Cessão de uso\\xa0gratuita': 6,\n",
       " 'Locação Para Terceiros': 7,\n",
       " 'Usufruto Indígena': 8,\n",
       " 'Guarda Provisória': 9,\n",
       " 'Comodato': 10}"
      ]
     },
     "execution_count": 174,
     "metadata": {},
     "output_type": "execute_result"
    }
   ],
   "source": [
    "dict_map_regime"
   ]
  },
  {
   "cell_type": "code",
   "execution_count": 175,
   "id": "6d81420f-57a4-4e85-8ea0-93e60ec9f889",
   "metadata": {},
   "outputs": [
    {
     "data": {
      "text/plain": [
       "{'Uso Especial': 0}"
      ]
     },
     "execution_count": 175,
     "metadata": {},
     "output_type": "execute_result"
    }
   ],
   "source": [
    "dict_map_classe"
   ]
  },
  {
   "cell_type": "code",
   "execution_count": 178,
   "id": "33df9469-1248-4d1a-aaa5-7a017a344471",
   "metadata": {
    "collapsed": true,
    "jupyter": {
     "outputs_hidden": true
    }
   },
   "outputs": [
    {
     "data": {
      "text/plain": [
       "{'Edifício / Prédio': 0,\n",
       " 'Terreno': 1,\n",
       " 'Casa': 2,\n",
       " 'Outros': 3,\n",
       " 'Gleba': 4,\n",
       " 'Parque': 5,\n",
       " 'Fazenda': 6,\n",
       " 'Galpão': 7,\n",
       " \"Espelho D'Água\": 8,\n",
       " 'Laboratório': 9,\n",
       " 'Escola': 10,\n",
       " 'Hospital': 11,\n",
       " 'Residência': 12,\n",
       " 'Apartamento': 13,\n",
       " 'Autarquia / Fundação': 14,\n",
       " 'Conjunto': 15,\n",
       " 'Armazém': 16,\n",
       " 'Ilha (ilhota)': 17,\n",
       " 'Sala': 18,\n",
       " 'Estação': 19,\n",
       " 'Aeroporto': 20,\n",
       " 'Reserva': 21,\n",
       " 'Universidade': 22,\n",
       " 'Base': 23,\n",
       " 'Porto': 24,\n",
       " 'Marina': 25,\n",
       " 'Biblioteca': 26,\n",
       " 'Via Férrea': 27,\n",
       " 'Usina': 28,\n",
       " 'Delegacia': 29,\n",
       " 'Quartel': 30,\n",
       " 'Pátio Ferroviário': 31,\n",
       " 'Estacionamento': 32,\n",
       " 'Complexo': 33,\n",
       " 'Loja': 34,\n",
       " 'Açude': 35,\n",
       " 'Cais': 36,\n",
       " 'Represa': 37,\n",
       " 'Presídio': 38,\n",
       " 'Garagens': 39,\n",
       " 'Teatro': 40,\n",
       " 'Fábrica': 41,\n",
       " 'Estádio': 42,\n",
       " 'Pier': 43,\n",
       " 'Museu': 44,\n",
       " 'Faculdade': 45,\n",
       " 'Cemitério': 46,\n",
       " 'Alfândega': 47,\n",
       " 'Posto de Fiscalização': 48,\n",
       " 'Embaixada': 49}"
      ]
     },
     "execution_count": 178,
     "metadata": {},
     "output_type": "execute_result"
    }
   ],
   "source": [
    "dict_map_tipo"
   ]
  },
  {
   "cell_type": "markdown",
   "id": "c39e544d-47c0-4d49-b446-6c0462bcd9a1",
   "metadata": {},
   "source": [
    "### Fato"
   ]
  },
  {
   "cell_type": "code",
   "execution_count": 201,
   "id": "3c86b820-3741-4205-b948-14f178a851ec",
   "metadata": {},
   "outputs": [],
   "source": [
    "fTerreno = dados[[\n",
    "       'Data do Cadastro do Imóvel', \"local\", 'Conceituação do Terreno',\n",
    "       'Tipo de Imóvel', 'Regime de Utilização', 'Proprietário Oficial',\n",
    "       'Data Início da Utilização', 'Área do Terreno (m²)',\n",
    "       'Área da União (m²)', 'Valor da Utilização (R$)',\n",
    "       'Valor Contabilizado (R$)', 'Área Construída  (m²)']]"
   ]
  },
  {
   "cell_type": "code",
   "execution_count": 202,
   "id": "b6750ddc-f4f4-433c-a340-5beb298c809d",
   "metadata": {
    "collapsed": true,
    "jupyter": {
     "outputs_hidden": true
    }
   },
   "outputs": [
    {
     "name": "stderr",
     "output_type": "stream",
     "text": [
      "C:\\Users\\felip\\AppData\\Local\\Temp\\ipykernel_6360\\1857907990.py:17: SettingWithCopyWarning: \n",
      "A value is trying to be set on a copy of a slice from a DataFrame\n",
      "\n",
      "See the caveats in the documentation: https://pandas.pydata.org/pandas-docs/stable/user_guide/indexing.html#returning-a-view-versus-a-copy\n",
      "  fTerreno.rename(columns=novo_nome_colunas, inplace=True)\n"
     ]
    }
   ],
   "source": [
    "novo_nome_colunas = {\n",
    "    'Data do Cadastro do Imóvel': 'id_data_cadastro',\n",
    "    'local': 'id_local',\n",
    "    'Conceituação do Terreno': 'id_conceituacao',\n",
    "    'Tipo de Imóvel': 'id_tipo',\n",
    "    'Regime de Utilização': 'id_regime',\n",
    "    'Proprietário Oficial': 'id_proprietario',\n",
    "    'Data Início da Utilização': 'id_data_utilizacao',\n",
    "    'Área do Terreno (m²)': 'area_terreno',\n",
    "    'Área da União (m²)': 'area_uniao',\n",
    "    'Valor da Utilização (R$)': 'valor_utilizacao',\n",
    "    'Valor Contabilizado (R$)': 'valor_contabilizado',\n",
    "    'Área Construída  (m²)': 'area_construida'\n",
    "}\n",
    "\n",
    "# Renomeando as colunas\n",
    "fTerreno.rename(columns=novo_nome_colunas, inplace=True)\n",
    "fTerreno.reset_index(drop=True, inplace=True)"
   ]
  },
  {
   "cell_type": "code",
   "execution_count": 203,
   "id": "79fb690f-6e4d-48b9-b7db-2a395460a95c",
   "metadata": {},
   "outputs": [
    {
     "data": {
      "text/html": [
       "<div>\n",
       "<style scoped>\n",
       "    .dataframe tbody tr th:only-of-type {\n",
       "        vertical-align: middle;\n",
       "    }\n",
       "\n",
       "    .dataframe tbody tr th {\n",
       "        vertical-align: top;\n",
       "    }\n",
       "\n",
       "    .dataframe thead th {\n",
       "        text-align: right;\n",
       "    }\n",
       "</style>\n",
       "<table border=\"1\" class=\"dataframe\">\n",
       "  <thead>\n",
       "    <tr style=\"text-align: right;\">\n",
       "      <th></th>\n",
       "      <th>id_data_cadastro</th>\n",
       "      <th>id_local</th>\n",
       "      <th>id_conceituacao</th>\n",
       "      <th>id_tipo</th>\n",
       "      <th>id_regime</th>\n",
       "      <th>id_proprietario</th>\n",
       "      <th>id_data_utilizacao</th>\n",
       "      <th>area_terreno</th>\n",
       "      <th>area_uniao</th>\n",
       "      <th>valor_utilizacao</th>\n",
       "      <th>valor_contabilizado</th>\n",
       "      <th>area_construida</th>\n",
       "    </tr>\n",
       "  </thead>\n",
       "  <tbody>\n",
       "    <tr>\n",
       "      <th>0</th>\n",
       "      <td>2020-07-30</td>\n",
       "      <td>RO; Porto Velho; R JOAO ALFREDO 174 TERMINAL P...</td>\n",
       "      <td>Nacional Interior</td>\n",
       "      <td>Edifício / Prédio</td>\n",
       "      <td>Em Processso de Destinação</td>\n",
       "      <td>União (Adm. Pub. Fed. direta)</td>\n",
       "      <td>2017-05-09</td>\n",
       "      <td>2892.57</td>\n",
       "      <td>2892.57</td>\n",
       "      <td>1366277.31</td>\n",
       "      <td>1366277.31</td>\n",
       "      <td>826.0</td>\n",
       "    </tr>\n",
       "  </tbody>\n",
       "</table>\n",
       "</div>"
      ],
      "text/plain": [
       "  id_data_cadastro                                           id_local  \\\n",
       "0       2020-07-30  RO; Porto Velho; R JOAO ALFREDO 174 TERMINAL P...   \n",
       "\n",
       "     id_conceituacao            id_tipo                   id_regime  \\\n",
       "0  Nacional Interior  Edifício / Prédio  Em Processso de Destinação   \n",
       "\n",
       "                 id_proprietario id_data_utilizacao  area_terreno  area_uniao  \\\n",
       "0  União (Adm. Pub. Fed. direta)         2017-05-09       2892.57     2892.57   \n",
       "\n",
       "   valor_utilizacao  valor_contabilizado  area_construida  \n",
       "0        1366277.31           1366277.31            826.0  "
      ]
     },
     "execution_count": 203,
     "metadata": {},
     "output_type": "execute_result"
    }
   ],
   "source": [
    "fTerreno.head(1)"
   ]
  },
  {
   "cell_type": "code",
   "execution_count": 204,
   "id": "a379a954-d66d-4af4-ac81-7e14e6300123",
   "metadata": {
    "collapsed": true,
    "jupyter": {
     "outputs_hidden": true
    }
   },
   "outputs": [
    {
     "name": "stderr",
     "output_type": "stream",
     "text": [
      "C:\\Users\\felip\\AppData\\Local\\Temp\\ipykernel_6360\\2327326580.py:1: SettingWithCopyWarning: \n",
      "A value is trying to be set on a copy of a slice from a DataFrame.\n",
      "Try using .loc[row_indexer,col_indexer] = value instead\n",
      "\n",
      "See the caveats in the documentation: https://pandas.pydata.org/pandas-docs/stable/user_guide/indexing.html#returning-a-view-versus-a-copy\n",
      "  fTerreno.id_local = fTerreno.id_local.map(dict_map_local)\n",
      "C:\\Users\\felip\\AppData\\Local\\Temp\\ipykernel_6360\\2327326580.py:2: SettingWithCopyWarning: \n",
      "A value is trying to be set on a copy of a slice from a DataFrame.\n",
      "Try using .loc[row_indexer,col_indexer] = value instead\n",
      "\n",
      "See the caveats in the documentation: https://pandas.pydata.org/pandas-docs/stable/user_guide/indexing.html#returning-a-view-versus-a-copy\n",
      "  fTerreno.id_conceituacao = fTerreno.id_conceituacao.map(dict_map_conceituacao)\n",
      "C:\\Users\\felip\\AppData\\Local\\Temp\\ipykernel_6360\\2327326580.py:3: SettingWithCopyWarning: \n",
      "A value is trying to be set on a copy of a slice from a DataFrame.\n",
      "Try using .loc[row_indexer,col_indexer] = value instead\n",
      "\n",
      "See the caveats in the documentation: https://pandas.pydata.org/pandas-docs/stable/user_guide/indexing.html#returning-a-view-versus-a-copy\n",
      "  fTerreno.id_tipo = fTerreno.id_tipo.map(dict_map_tipo)\n",
      "C:\\Users\\felip\\AppData\\Local\\Temp\\ipykernel_6360\\2327326580.py:4: SettingWithCopyWarning: \n",
      "A value is trying to be set on a copy of a slice from a DataFrame.\n",
      "Try using .loc[row_indexer,col_indexer] = value instead\n",
      "\n",
      "See the caveats in the documentation: https://pandas.pydata.org/pandas-docs/stable/user_guide/indexing.html#returning-a-view-versus-a-copy\n",
      "  fTerreno.id_regime = fTerreno.id_regime.map(dict_map_regime)\n",
      "C:\\Users\\felip\\AppData\\Local\\Temp\\ipykernel_6360\\2327326580.py:5: SettingWithCopyWarning: \n",
      "A value is trying to be set on a copy of a slice from a DataFrame.\n",
      "Try using .loc[row_indexer,col_indexer] = value instead\n",
      "\n",
      "See the caveats in the documentation: https://pandas.pydata.org/pandas-docs/stable/user_guide/indexing.html#returning-a-view-versus-a-copy\n",
      "  fTerreno.id_proprietario = fTerreno.id_proprietario.map(dict_map_prop)\n"
     ]
    }
   ],
   "source": [
    "fTerreno.id_local = fTerreno.id_local.map(dict_map_local)\n",
    "fTerreno.id_conceituacao = fTerreno.id_conceituacao.map(dict_map_conceituacao)\n",
    "fTerreno.id_tipo = fTerreno.id_tipo.map(dict_map_tipo)\n",
    "fTerreno.id_regime = fTerreno.id_regime.map(dict_map_regime)\n",
    "fTerreno.id_proprietario = fTerreno.id_proprietario.map(dict_map_prop)"
   ]
  },
  {
   "cell_type": "code",
   "execution_count": 206,
   "id": "ee3df8f5-bd4a-4497-8bd7-76b7631d7443",
   "metadata": {},
   "outputs": [
    {
     "data": {
      "text/html": [
       "<div>\n",
       "<style scoped>\n",
       "    .dataframe tbody tr th:only-of-type {\n",
       "        vertical-align: middle;\n",
       "    }\n",
       "\n",
       "    .dataframe tbody tr th {\n",
       "        vertical-align: top;\n",
       "    }\n",
       "\n",
       "    .dataframe thead th {\n",
       "        text-align: right;\n",
       "    }\n",
       "</style>\n",
       "<table border=\"1\" class=\"dataframe\">\n",
       "  <thead>\n",
       "    <tr style=\"text-align: right;\">\n",
       "      <th></th>\n",
       "      <th>id_data_cadastro</th>\n",
       "      <th>id_local</th>\n",
       "      <th>id_conceituacao</th>\n",
       "      <th>id_tipo</th>\n",
       "      <th>id_regime</th>\n",
       "      <th>id_proprietario</th>\n",
       "      <th>id_data_utilizacao</th>\n",
       "      <th>area_terreno</th>\n",
       "      <th>area_uniao</th>\n",
       "      <th>valor_utilizacao</th>\n",
       "      <th>valor_contabilizado</th>\n",
       "      <th>area_construida</th>\n",
       "    </tr>\n",
       "  </thead>\n",
       "  <tbody>\n",
       "    <tr>\n",
       "      <th>2915</th>\n",
       "      <td>2022-02-16</td>\n",
       "      <td>2475</td>\n",
       "      <td>0</td>\n",
       "      <td>1</td>\n",
       "      <td>1</td>\n",
       "      <td>0</td>\n",
       "      <td>2022-02-15</td>\n",
       "      <td>1656.00</td>\n",
       "      <td>1656.00</td>\n",
       "      <td>5796.00</td>\n",
       "      <td>5796.00</td>\n",
       "      <td>0.00</td>\n",
       "    </tr>\n",
       "    <tr>\n",
       "      <th>12535</th>\n",
       "      <td>2020-05-11</td>\n",
       "      <td>3604</td>\n",
       "      <td>0</td>\n",
       "      <td>10</td>\n",
       "      <td>1</td>\n",
       "      <td>1</td>\n",
       "      <td>1994-01-01</td>\n",
       "      <td>2044000.00</td>\n",
       "      <td>2044000.00</td>\n",
       "      <td>235819.29</td>\n",
       "      <td>39315266.82</td>\n",
       "      <td>86.84</td>\n",
       "    </tr>\n",
       "    <tr>\n",
       "      <th>73</th>\n",
       "      <td>2021-11-05</td>\n",
       "      <td>15</td>\n",
       "      <td>0</td>\n",
       "      <td>9</td>\n",
       "      <td>3</td>\n",
       "      <td>0</td>\n",
       "      <td>2021-11-05</td>\n",
       "      <td>893.46</td>\n",
       "      <td>893.46</td>\n",
       "      <td>1280700.00</td>\n",
       "      <td>1280700.00</td>\n",
       "      <td>466.04</td>\n",
       "    </tr>\n",
       "    <tr>\n",
       "      <th>1256</th>\n",
       "      <td>2022-06-05</td>\n",
       "      <td>989</td>\n",
       "      <td>0</td>\n",
       "      <td>18</td>\n",
       "      <td>3</td>\n",
       "      <td>0</td>\n",
       "      <td>2022-06-05</td>\n",
       "      <td>1350.00</td>\n",
       "      <td>1350.00</td>\n",
       "      <td>199731.68</td>\n",
       "      <td>199731.68</td>\n",
       "      <td>45.10</td>\n",
       "    </tr>\n",
       "    <tr>\n",
       "      <th>8059</th>\n",
       "      <td>2020-11-23</td>\n",
       "      <td>2777</td>\n",
       "      <td>0</td>\n",
       "      <td>10</td>\n",
       "      <td>1</td>\n",
       "      <td>0</td>\n",
       "      <td>2022-02-23</td>\n",
       "      <td>270492.00</td>\n",
       "      <td>270492.00</td>\n",
       "      <td>129852.10</td>\n",
       "      <td>6941022.23</td>\n",
       "      <td>90.00</td>\n",
       "    </tr>\n",
       "    <tr>\n",
       "      <th>8980</th>\n",
       "      <td>2021-07-06</td>\n",
       "      <td>3256</td>\n",
       "      <td>3</td>\n",
       "      <td>8</td>\n",
       "      <td>5</td>\n",
       "      <td>0</td>\n",
       "      <td>2021-09-24</td>\n",
       "      <td>8296761.05</td>\n",
       "      <td>8296761.05</td>\n",
       "      <td>324983.44</td>\n",
       "      <td>97818812.78</td>\n",
       "      <td>0.00</td>\n",
       "    </tr>\n",
       "    <tr>\n",
       "      <th>3816</th>\n",
       "      <td>2021-10-14</td>\n",
       "      <td>2753</td>\n",
       "      <td>0</td>\n",
       "      <td>45</td>\n",
       "      <td>1</td>\n",
       "      <td>1</td>\n",
       "      <td>1980-02-07</td>\n",
       "      <td>902833.00</td>\n",
       "      <td>902833.00</td>\n",
       "      <td>1303464.01</td>\n",
       "      <td>92867488.88</td>\n",
       "      <td>326.81</td>\n",
       "    </tr>\n",
       "    <tr>\n",
       "      <th>5812</th>\n",
       "      <td>2021-10-14</td>\n",
       "      <td>2753</td>\n",
       "      <td>0</td>\n",
       "      <td>45</td>\n",
       "      <td>1</td>\n",
       "      <td>1</td>\n",
       "      <td>1988-02-07</td>\n",
       "      <td>902833.00</td>\n",
       "      <td>902833.00</td>\n",
       "      <td>285342.66</td>\n",
       "      <td>92867488.88</td>\n",
       "      <td>53.63</td>\n",
       "    </tr>\n",
       "    <tr>\n",
       "      <th>10398</th>\n",
       "      <td>2020-05-11</td>\n",
       "      <td>3604</td>\n",
       "      <td>0</td>\n",
       "      <td>10</td>\n",
       "      <td>1</td>\n",
       "      <td>1</td>\n",
       "      <td>2000-01-01</td>\n",
       "      <td>2044000.00</td>\n",
       "      <td>2044000.00</td>\n",
       "      <td>123094.51</td>\n",
       "      <td>39315266.82</td>\n",
       "      <td>179.10</td>\n",
       "    </tr>\n",
       "    <tr>\n",
       "      <th>10632</th>\n",
       "      <td>2020-05-11</td>\n",
       "      <td>3604</td>\n",
       "      <td>0</td>\n",
       "      <td>10</td>\n",
       "      <td>1</td>\n",
       "      <td>1</td>\n",
       "      <td>1994-01-01</td>\n",
       "      <td>2044000.00</td>\n",
       "      <td>2044000.00</td>\n",
       "      <td>237542.39</td>\n",
       "      <td>39315266.82</td>\n",
       "      <td>171.35</td>\n",
       "    </tr>\n",
       "  </tbody>\n",
       "</table>\n",
       "</div>"
      ],
      "text/plain": [
       "      id_data_cadastro  id_local  id_conceituacao  id_tipo  id_regime  \\\n",
       "2915        2022-02-16      2475                0        1          1   \n",
       "12535       2020-05-11      3604                0       10          1   \n",
       "73          2021-11-05        15                0        9          3   \n",
       "1256        2022-06-05       989                0       18          3   \n",
       "8059        2020-11-23      2777                0       10          1   \n",
       "8980        2021-07-06      3256                3        8          5   \n",
       "3816        2021-10-14      2753                0       45          1   \n",
       "5812        2021-10-14      2753                0       45          1   \n",
       "10398       2020-05-11      3604                0       10          1   \n",
       "10632       2020-05-11      3604                0       10          1   \n",
       "\n",
       "       id_proprietario id_data_utilizacao  area_terreno  area_uniao  \\\n",
       "2915                 0         2022-02-15       1656.00     1656.00   \n",
       "12535                1         1994-01-01    2044000.00  2044000.00   \n",
       "73                   0         2021-11-05        893.46      893.46   \n",
       "1256                 0         2022-06-05       1350.00     1350.00   \n",
       "8059                 0         2022-02-23     270492.00   270492.00   \n",
       "8980                 0         2021-09-24    8296761.05  8296761.05   \n",
       "3816                 1         1980-02-07     902833.00   902833.00   \n",
       "5812                 1         1988-02-07     902833.00   902833.00   \n",
       "10398                1         2000-01-01    2044000.00  2044000.00   \n",
       "10632                1         1994-01-01    2044000.00  2044000.00   \n",
       "\n",
       "       valor_utilizacao  valor_contabilizado  area_construida  \n",
       "2915            5796.00              5796.00             0.00  \n",
       "12535         235819.29          39315266.82            86.84  \n",
       "73           1280700.00           1280700.00           466.04  \n",
       "1256          199731.68            199731.68            45.10  \n",
       "8059          129852.10           6941022.23            90.00  \n",
       "8980          324983.44          97818812.78             0.00  \n",
       "3816         1303464.01          92867488.88           326.81  \n",
       "5812          285342.66          92867488.88            53.63  \n",
       "10398         123094.51          39315266.82           179.10  \n",
       "10632         237542.39          39315266.82           171.35  "
      ]
     },
     "execution_count": 206,
     "metadata": {},
     "output_type": "execute_result"
    }
   ],
   "source": [
    "fTerreno.sample(n=10)"
   ]
  },
  {
   "cell_type": "markdown",
   "id": "31c9862f-473a-433d-bc92-571d9b0ac7fe",
   "metadata": {},
   "source": [
    "## Exportação das bases"
   ]
  },
  {
   "cell_type": "code",
   "execution_count": 208,
   "id": "62e78880-ef64-47d0-84be-df16976c107d",
   "metadata": {},
   "outputs": [],
   "source": [
    "dLocal.drop([\"local\"], axis=1, inplace=True)"
   ]
  },
  {
   "cell_type": "code",
   "execution_count": 218,
   "id": "b4834c7d-0f96-4755-aced-ab226e276f4c",
   "metadata": {},
   "outputs": [],
   "source": [
    "dLocal.Latitude = dLocal.Latitude.str.replace(\",\", \".\")\n",
    "dLocal.Longitude = dLocal.Longitude.str.replace(\",\", \".\")"
   ]
  },
  {
   "cell_type": "code",
   "execution_count": 219,
   "id": "ff4942d4-8696-4160-9ba3-02b27b87021a",
   "metadata": {},
   "outputs": [
    {
     "data": {
      "text/html": [
       "<div>\n",
       "<style scoped>\n",
       "    .dataframe tbody tr th:only-of-type {\n",
       "        vertical-align: middle;\n",
       "    }\n",
       "\n",
       "    .dataframe tbody tr th {\n",
       "        vertical-align: top;\n",
       "    }\n",
       "\n",
       "    .dataframe thead th {\n",
       "        text-align: right;\n",
       "    }\n",
       "</style>\n",
       "<table border=\"1\" class=\"dataframe\">\n",
       "  <thead>\n",
       "    <tr style=\"text-align: right;\">\n",
       "      <th></th>\n",
       "      <th>UF</th>\n",
       "      <th>Município</th>\n",
       "      <th>Endereço</th>\n",
       "      <th>Bairro</th>\n",
       "      <th>Latitude</th>\n",
       "      <th>Longitude</th>\n",
       "    </tr>\n",
       "  </thead>\n",
       "  <tbody>\n",
       "    <tr>\n",
       "      <th>0</th>\n",
       "      <td>RO</td>\n",
       "      <td>Porto Velho</td>\n",
       "      <td>R JOAO ALFREDO 174 TERMINAL PESQUEIRO - P.VELHO</td>\n",
       "      <td>BAIXA UNIAO</td>\n",
       "      <td>-8.76907578741759</td>\n",
       "      <td>-63.9079873682225</td>\n",
       "    </tr>\n",
       "    <tr>\n",
       "      <th>1</th>\n",
       "      <td>RO</td>\n",
       "      <td>Porto Velho</td>\n",
       "      <td>AV LAURO SODRE 3020</td>\n",
       "      <td>COSTA E SILVA</td>\n",
       "      <td>-8.73250681311773</td>\n",
       "      <td>-63.9009529076672</td>\n",
       "    </tr>\n",
       "    <tr>\n",
       "      <th>2</th>\n",
       "      <td>RO</td>\n",
       "      <td>Ji-Parana</td>\n",
       "      <td>R DOS SERINGUEIROS 219</td>\n",
       "      <td>JARDIM DOS MIGRANTES</td>\n",
       "      <td>-10.8773580376453</td>\n",
       "      <td>-61.9616413543423</td>\n",
       "    </tr>\n",
       "    <tr>\n",
       "      <th>3</th>\n",
       "      <td>RO</td>\n",
       "      <td>Cacoal</td>\n",
       "      <td>AV SETE DE SETEMBRO 2831</td>\n",
       "      <td>CENTRO</td>\n",
       "      <td>-11.4363749</td>\n",
       "      <td>-61.4454398</td>\n",
       "    </tr>\n",
       "    <tr>\n",
       "      <th>4</th>\n",
       "      <td>RR</td>\n",
       "      <td>Pacaraima</td>\n",
       "      <td>A Terra Indígena São Marcos s/nº Parte da Terr...</td>\n",
       "      <td>-</td>\n",
       "      <td>4.4749363536</td>\n",
       "      <td>-61.1478147341</td>\n",
       "    </tr>\n",
       "    <tr>\n",
       "      <th>...</th>\n",
       "      <td>...</td>\n",
       "      <td>...</td>\n",
       "      <td>...</td>\n",
       "      <td>...</td>\n",
       "      <td>...</td>\n",
       "      <td>...</td>\n",
       "    </tr>\n",
       "    <tr>\n",
       "      <th>3604</th>\n",
       "      <td>SC</td>\n",
       "      <td>Santa Rosa do Sul</td>\n",
       "      <td>R DAS ROSAS S/N</td>\n",
       "      <td>VILA NOVA</td>\n",
       "      <td>-29.1357382475032</td>\n",
       "      <td>-49.7185448975031</td>\n",
       "    </tr>\n",
       "    <tr>\n",
       "      <th>3605</th>\n",
       "      <td>PR</td>\n",
       "      <td>Santa Tereza do Oeste</td>\n",
       "      <td>CH Santa Tereza s/n Chácara Urbana nº 74-A-1</td>\n",
       "      <td>Santa Tereza</td>\n",
       "      <td>-25.0559159</td>\n",
       "      <td>-53.621933</td>\n",
       "    </tr>\n",
       "    <tr>\n",
       "      <th>3606</th>\n",
       "      <td>PR</td>\n",
       "      <td>Santa Tereza do Oeste</td>\n",
       "      <td>CH Santa Tereza s/n Chácara Urbana nº 74-A-2</td>\n",
       "      <td>Santa Tereza</td>\n",
       "      <td>-25.0559159</td>\n",
       "      <td>-53.621933</td>\n",
       "    </tr>\n",
       "    <tr>\n",
       "      <th>3607</th>\n",
       "      <td>SC</td>\n",
       "      <td>Itapoa</td>\n",
       "      <td>AV Beira Mar 5 s/n Cessao PMI - galpao pesca</td>\n",
       "      <td>Pontal</td>\n",
       "      <td>-26.1703405109</td>\n",
       "      <td>-48.5847341564</td>\n",
       "    </tr>\n",
       "    <tr>\n",
       "      <th>3608</th>\n",
       "      <td>SC</td>\n",
       "      <td>Itapoa</td>\n",
       "      <td>R Bento Francisco da Silva sn Cessao PMI - gal...</td>\n",
       "      <td>Itapema do Norte</td>\n",
       "      <td>-26.0712762</td>\n",
       "      <td>-48.6056296</td>\n",
       "    </tr>\n",
       "  </tbody>\n",
       "</table>\n",
       "<p>3609 rows × 6 columns</p>\n",
       "</div>"
      ],
      "text/plain": [
       "      UF              Município  \\\n",
       "0     RO            Porto Velho   \n",
       "1     RO            Porto Velho   \n",
       "2     RO              Ji-Parana   \n",
       "3     RO                 Cacoal   \n",
       "4     RR              Pacaraima   \n",
       "...   ..                    ...   \n",
       "3604  SC      Santa Rosa do Sul   \n",
       "3605  PR  Santa Tereza do Oeste   \n",
       "3606  PR  Santa Tereza do Oeste   \n",
       "3607  SC                 Itapoa   \n",
       "3608  SC                 Itapoa   \n",
       "\n",
       "                                               Endereço                Bairro  \\\n",
       "0       R JOAO ALFREDO 174 TERMINAL PESQUEIRO - P.VELHO           BAIXA UNIAO   \n",
       "1                                   AV LAURO SODRE 3020         COSTA E SILVA   \n",
       "2                                R DOS SERINGUEIROS 219  JARDIM DOS MIGRANTES   \n",
       "3                              AV SETE DE SETEMBRO 2831                CENTRO   \n",
       "4     A Terra Indígena São Marcos s/nº Parte da Terr...                     -   \n",
       "...                                                 ...                   ...   \n",
       "3604                                    R DAS ROSAS S/N             VILA NOVA   \n",
       "3605       CH Santa Tereza s/n Chácara Urbana nº 74-A-1          Santa Tereza   \n",
       "3606       CH Santa Tereza s/n Chácara Urbana nº 74-A-2          Santa Tereza   \n",
       "3607       AV Beira Mar 5 s/n Cessao PMI - galpao pesca                Pontal   \n",
       "3608  R Bento Francisco da Silva sn Cessao PMI - gal...      Itapema do Norte   \n",
       "\n",
       "               Latitude          Longitude  \n",
       "0     -8.76907578741759  -63.9079873682225  \n",
       "1     -8.73250681311773  -63.9009529076672  \n",
       "2     -10.8773580376453  -61.9616413543423  \n",
       "3           -11.4363749        -61.4454398  \n",
       "4          4.4749363536     -61.1478147341  \n",
       "...                 ...                ...  \n",
       "3604  -29.1357382475032  -49.7185448975031  \n",
       "3605        -25.0559159         -53.621933  \n",
       "3606        -25.0559159         -53.621933  \n",
       "3607     -26.1703405109     -48.5847341564  \n",
       "3608        -26.0712762        -48.6056296  \n",
       "\n",
       "[3609 rows x 6 columns]"
      ]
     },
     "execution_count": 219,
     "metadata": {},
     "output_type": "execute_result"
    }
   ],
   "source": [
    "dLocal"
   ]
  },
  {
   "cell_type": "code",
   "execution_count": 220,
   "id": "913b4e61-0c90-46a8-8d65-2364655ae5ba",
   "metadata": {},
   "outputs": [],
   "source": [
    "dCalendario.to_csv(\"dCalendario.csv\", index=False)\n",
    "dProprietario.to_csv(\"dProprietario.csv\")\n",
    "dTipo.to_csv(\"dTipo.csv\")\n",
    "dConceituacao.to_csv(\"dConceituacao.csv\")\n",
    "dLocal.to_csv(\"dLocal.csv\")\n",
    "dRegime.to_csv(\"dRegime.csv\")\n",
    "fTerreno.to_csv(\"fTerreno.csv\", index=False)"
   ]
  },
  {
   "cell_type": "code",
   "execution_count": null,
   "id": "3a1c7c72-3716-437a-a34e-d8b19ea17b7b",
   "metadata": {},
   "outputs": [],
   "source": []
  }
 ],
 "metadata": {
  "kernelspec": {
   "display_name": "Python 3 (ipykernel)",
   "language": "python",
   "name": "python3"
  },
  "language_info": {
   "codemirror_mode": {
    "name": "ipython",
    "version": 3
   },
   "file_extension": ".py",
   "mimetype": "text/x-python",
   "name": "python",
   "nbconvert_exporter": "python",
   "pygments_lexer": "ipython3",
   "version": "3.8.17"
  }
 },
 "nbformat": 4,
 "nbformat_minor": 5
}
